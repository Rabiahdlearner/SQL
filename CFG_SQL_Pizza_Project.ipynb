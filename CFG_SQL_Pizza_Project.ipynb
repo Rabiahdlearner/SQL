{
  "nbformat": 4,
  "nbformat_minor": 0,
  "metadata": {
    "colab": {
      "provenance": [],
      "authorship_tag": "ABX9TyNtAng01FpvaT6H4NJbQFS+",
      "include_colab_link": true
    },
    "kernelspec": {
      "name": "python3",
      "display_name": "Python 3"
    },
    "language_info": {
      "name": "python"
    }
  },
  "cells": [
    {
      "cell_type": "markdown",
      "metadata": {
        "id": "view-in-github",
        "colab_type": "text"
      },
      "source": [
        "<a href=\"https://colab.research.google.com/github/Rabiahdlearner/SQL/blob/main/CFG_SQL_Pizza_Project.ipynb\" target=\"_parent\"><img src=\"https://colab.research.google.com/assets/colab-badge.svg\" alt=\"Open In Colab\"/></a>"
      ]
    },
    {
      "cell_type": "markdown",
      "source": [
        "# Some Pizza Sales Analytics with MySQL\n",
        "\n",
        "\n",
        "\n"
      ],
      "metadata": {
        "id": "1Qn5QBIA1Zde"
      }
    },
    {
      "cell_type": "code",
      "execution_count": 14,
      "metadata": {
        "colab": {
          "base_uri": "https://localhost:8080/"
        },
        "id": "4BJyR8TWBBKG",
        "outputId": "a9570ba9-1629-4a45-b3d0-0b349ef04b69"
      },
      "outputs": [
        {
          "output_type": "stream",
          "name": "stdout",
          "text": [
            "Installing MySQL server... success.\n",
            "Starting MySQL server... success.\n",
            "Installing MySQL client... success.\n",
            "Creating database connection for root user... 0 rows affected.\n",
            "0 rows affected.\n",
            "0 rows affected.\n",
            "Setup attempt finished. Please retry or ask for help if there were any errors."
          ]
        }
      ],
      "source": [
        "#@title Setup { display-mode: \"form\" }\n",
        "#@markdown Run this cell to prepare MySQL. Rerun the cell whenever you start a new session, or if you think your database might have shut down. **Do not edit its contents.**\n",
        "#\n",
        "#@markdown *If any errors occur upon running this cell, please rerun the cell to see if that fixes it. If not, ask for help. Remember to attach a screenshot.*\n",
        "!printf \"Installing MySQL server... \"; apt-get install mysql-server &>/dev/null 2>/dev/null && echo -e \"success.\" || echo \"failure!\"\n",
        "!printf \"Starting MySQL server... \"; service mysql start &>/dev/null 2>/dev/null && echo \"success.\" || echo \"failure!\"\n",
        "!printf \"Installing MySQL client... \"; pip install mysqlclient &>/dev/null 2>/dev/null && echo \"success.\" || echo \"failure!\"\n",
        "!printf \"Creating database connection for root user... \"\n",
        "import IPython, sqlalchemy, time; sqlalchemy.create_engine(\"mysql://root@localhost/\")\n",
        "%reload_ext sql\n",
        "%sql mysql://root@localhost/ ALTER USER 'root'@'localhost' IDENTIFIED WITH 'mysql_native_password' BY ''; FLUSH PRIVILEGES; SET sql_mode = (SELECT REPLACE(@@sql_mode, 'ONLY_FULL_GROUP_BY', ''));\n",
        "!printf \"Setup attempt finished. Please retry or ask for help if there were any errors.\""
      ]
    },
    {
      "cell_type": "markdown",
      "source": [
        "This project makes use of Pizza sales of dataset of an unstated location in the year 2015, which is available\n",
        "to the public found on Kaggle website  it consists of 48620 rows and 12 columns\n",
        "and is divided into five tables namely:\n",
        "1. features\n",
        "2. order\n",
        "3. Price\n",
        "4. ingredients\n",
        "5. November Sales\n",
        " to fulfill this requirement of this project as well as provide clarity for potential users of the dataset. Hence the name of the Database for this table will be call \"Pizza\"."
      ],
      "metadata": {
        "id": "VcybjAAeDaVj"
      }
    },
    {
      "cell_type": "code",
      "source": [
        "!pip install mysql-connector-python\n"
      ],
      "metadata": {
        "colab": {
          "base_uri": "https://localhost:8080/"
        },
        "id": "zD-d4gXqVVfy",
        "outputId": "fc29138a-2272-4a34-83be-a650f707b7c9"
      },
      "execution_count": 15,
      "outputs": [
        {
          "output_type": "stream",
          "name": "stdout",
          "text": [
            "Requirement already satisfied: mysql-connector-python in /usr/local/lib/python3.10/dist-packages (9.0.0)\n"
          ]
        }
      ]
    },
    {
      "cell_type": "markdown",
      "source": [
        "Connect Mysql to Google collaboratory"
      ],
      "metadata": {
        "id": "IEeZCRF9T4zT"
      }
    },
    {
      "cell_type": "code",
      "source": [
        "import mysql.connector"
      ],
      "metadata": {
        "id": "_HrU_wCAlJIC"
      },
      "execution_count": 16,
      "outputs": []
    },
    {
      "cell_type": "markdown",
      "source": [
        "Initiate Server connection with local host"
      ],
      "metadata": {
        "id": "yodlFL-MUA3Q"
      }
    },
    {
      "cell_type": "code",
      "source": [
        "pizza = mysql.connector.connect(host=\"localhost\", user=\"root\")#, password=\"\")"
      ],
      "metadata": {
        "id": "WJ2qi_4bnjVr"
      },
      "execution_count": 17,
      "outputs": []
    },
    {
      "cell_type": "markdown",
      "source": [
        "Create Pizza Database where all tables and others will be stored"
      ],
      "metadata": {
        "id": "A8Hki8N_UQY-"
      }
    },
    {
      "cell_type": "code",
      "source": [
        "%%sql\n",
        "CREATE DATABASE pizza;"
      ],
      "metadata": {
        "colab": {
          "base_uri": "https://localhost:8080/"
        },
        "id": "RCDg3UxUvDl-",
        "outputId": "3e234b21-5d27-46ff-8e13-c59db0ee72b1"
      },
      "execution_count": 18,
      "outputs": [
        {
          "output_type": "stream",
          "name": "stdout",
          "text": [
            " * mysql://root@localhost/\n",
            "(MySQLdb.ProgrammingError) (1007, \"Can't create database 'pizza'; database exists\")\n",
            "[SQL: CREATE DATABASE pizza;]\n",
            "(Background on this error at: https://sqlalche.me/e/20/f405)\n"
          ]
        }
      ]
    },
    {
      "cell_type": "markdown",
      "source": [
        "Use the database created. this step is important so that items will nt get stored in another database if you had one initialized before"
      ],
      "metadata": {
        "id": "oFYrZjF0UdIY"
      }
    },
    {
      "cell_type": "code",
      "source": [
        "%%sql\n",
        "USE pizza;"
      ],
      "metadata": {
        "colab": {
          "base_uri": "https://localhost:8080/"
        },
        "id": "Sg2fXh-hvLEe",
        "outputId": "0a234399-a96b-4fc0-b3ec-47de8e798042"
      },
      "execution_count": 19,
      "outputs": [
        {
          "output_type": "stream",
          "name": "stdout",
          "text": [
            " * mysql://root@localhost/\n",
            "0 rows affected.\n"
          ]
        },
        {
          "output_type": "execute_result",
          "data": {
            "text/plain": [
              "[]"
            ]
          },
          "metadata": {},
          "execution_count": 19
        }
      ]
    },
    {
      "cell_type": "code",
      "source": [
        "%%sql\n",
        "CREATE TABLE pizza_sales ( pizza_id INT, order_id INT, pizza_name_id VARCHAR(15),\n",
        "            quantity INT, order_date VARCHAR(12), order_time VARCHAR(12),\n",
        "            unit_price DECIMAL(8, 2), total_price DECIMAL(8, 2), pizza_size VARCHAR(5),\n",
        "            pizza_category VARCHAR(10), pizza_ingredients VARCHAR(255),\n",
        "            pizza_name VARCHAR(50)\n",
        "             );\n"
      ],
      "metadata": {
        "colab": {
          "base_uri": "https://localhost:8080/"
        },
        "id": "nNrhXAe-GKF3",
        "outputId": "84cc5c5e-bd68-4ef9-e8d2-44496aa35ec6"
      },
      "execution_count": 9,
      "outputs": [
        {
          "output_type": "stream",
          "name": "stdout",
          "text": [
            " * mysql://root@localhost/\n",
            "0 rows affected.\n"
          ]
        },
        {
          "output_type": "execute_result",
          "data": {
            "text/plain": [
              "[]"
            ]
          },
          "metadata": {},
          "execution_count": 9
        }
      ]
    },
    {
      "cell_type": "markdown",
      "source": [
        "The dataset  brought into google collab is now being stored in server"
      ],
      "metadata": {
        "id": "rNHIzB5VUyN3"
      }
    },
    {
      "cell_type": "code",
      "source": [
        "import csv\n",
        "\n",
        "with open (\"pizzaSales.csv\") as file:\n",
        "  rows = csv.DictReader(file)\n",
        "  cursor = pizza.cursor()\n",
        "  for row in rows:\n",
        "    cursor.execute(\"\"\"INSERT INTO pizza.pizza_sales( pizza_id, order_id, pizza_name_id,\n",
        "            quantity, order_date, order_time,\n",
        "            unit_price, total_price, pizza_size,\n",
        "            pizza_category, pizza_ingredients,\n",
        "            pizza_name\n",
        "             ) VALUES (%s, %s, %s, %s, %s, %s, %s, %s, %s, %s, %s, %s);\"\"\",\n",
        "                   [int(row[\"pizza_id\"]),\n",
        "                    int(row[\"order_id\"]),\n",
        "                    row[\"pizza_name_id\"],\n",
        "                    int(row[\"quantity\"]),\n",
        "                    row[\"order_date\"],\n",
        "                    row[\"order_time\"],\n",
        "                    float(row[\"unit_price\"]),\n",
        "                    float(row[\"total_price\"]),\n",
        "                    row[\"pizza_size\"],\n",
        "                    row[\"pizza_category\"],\n",
        "                    row[\"pizza_ingredients\"],\n",
        "                    row[\"pizza_name\"]\n",
        "                    ])\n",
        "  pizza.commit()"
      ],
      "metadata": {
        "id": "ltT8H3t4vP8T"
      },
      "execution_count": 10,
      "outputs": []
    },
    {
      "cell_type": "markdown",
      "source": [
        "Verifying appropriate loading of the dataset into the database"
      ],
      "metadata": {
        "id": "-sWzlKoxVAv_"
      }
    },
    {
      "cell_type": "code",
      "source": [
        "%%sql\n",
        "SELECT * FROM pizza_sales\n",
        "LIMIT 5"
      ],
      "metadata": {
        "colab": {
          "base_uri": "https://localhost:8080/",
          "height": 202
        },
        "id": "XbJ9E4ThZkra",
        "outputId": "77315b02-a110-43e3-f93c-b66332b9dfef"
      },
      "execution_count": 20,
      "outputs": [
        {
          "output_type": "stream",
          "name": "stdout",
          "text": [
            " * mysql://root@localhost/\n",
            "5 rows affected.\n"
          ]
        },
        {
          "output_type": "execute_result",
          "data": {
            "text/plain": [
              "[(1, 1, 'hawaiian_m', 1, '1/1/2015', '11:38:36', Decimal('13.25'), Decimal('13.25'), 'M', 'Classic', 'Sliced_Ham__Pineapple__Mozzarella_Cheese', 'The_Hawaiian_Pizza'),\n",
              " (2, 2, 'classic_dlx_m', 1, '1/1/2015', '11:57:40', Decimal('16.00'), Decimal('16.00'), 'M', 'Classic', 'Pepperoni__Mushrooms__Red_Onions__Red_Peppers__Bacon', 'The_Classic_Deluxe_Pizza'),\n",
              " (3, 2, 'five_cheese_l', 1, '1/1/2015', '11:57:40', Decimal('18.50'), Decimal('18.50'), 'L', 'Veggie', 'Mozzarella_Cheese__Provolone_Cheese__Smoked_Gouda_Cheese__Romano_Cheese__Blue_Cheese__Garlic', 'The_Five_Cheese_Pizza'),\n",
              " (4, 2, 'ital_supr_l', 1, '1/1/2015', '11:57:40', Decimal('20.75'), Decimal('20.75'), 'L', 'Supreme', 'Calabrese_Salami__Capocollo__Tomatoes__Red_Onions__Green_Olives__Garlic', 'The_Italian_Supreme_Pizza'),\n",
              " (5, 2, 'mexicana_m', 1, '1/1/2015', '11:57:40', Decimal('16.00'), Decimal('16.00'), 'M', 'Veggie', 'Tomatoes__Red_Peppers__Jalapeno_Peppers__Red_Onions__Cilantro__Corn__Chipotle_Sauce__Garlic', 'The_Mexicana_Pizza')]"
            ],
            "text/html": [
              "<table>\n",
              "    <thead>\n",
              "        <tr>\n",
              "            <th>pizza_id</th>\n",
              "            <th>order_id</th>\n",
              "            <th>pizza_name_id</th>\n",
              "            <th>quantity</th>\n",
              "            <th>order_date</th>\n",
              "            <th>order_time</th>\n",
              "            <th>unit_price</th>\n",
              "            <th>total_price</th>\n",
              "            <th>pizza_size</th>\n",
              "            <th>pizza_category</th>\n",
              "            <th>pizza_ingredients</th>\n",
              "            <th>pizza_name</th>\n",
              "        </tr>\n",
              "    </thead>\n",
              "    <tbody>\n",
              "        <tr>\n",
              "            <td>1</td>\n",
              "            <td>1</td>\n",
              "            <td>hawaiian_m</td>\n",
              "            <td>1</td>\n",
              "            <td>1/1/2015</td>\n",
              "            <td>11:38:36</td>\n",
              "            <td>13.25</td>\n",
              "            <td>13.25</td>\n",
              "            <td>M</td>\n",
              "            <td>Classic</td>\n",
              "            <td>Sliced_Ham__Pineapple__Mozzarella_Cheese</td>\n",
              "            <td>The_Hawaiian_Pizza</td>\n",
              "        </tr>\n",
              "        <tr>\n",
              "            <td>2</td>\n",
              "            <td>2</td>\n",
              "            <td>classic_dlx_m</td>\n",
              "            <td>1</td>\n",
              "            <td>1/1/2015</td>\n",
              "            <td>11:57:40</td>\n",
              "            <td>16.00</td>\n",
              "            <td>16.00</td>\n",
              "            <td>M</td>\n",
              "            <td>Classic</td>\n",
              "            <td>Pepperoni__Mushrooms__Red_Onions__Red_Peppers__Bacon</td>\n",
              "            <td>The_Classic_Deluxe_Pizza</td>\n",
              "        </tr>\n",
              "        <tr>\n",
              "            <td>3</td>\n",
              "            <td>2</td>\n",
              "            <td>five_cheese_l</td>\n",
              "            <td>1</td>\n",
              "            <td>1/1/2015</td>\n",
              "            <td>11:57:40</td>\n",
              "            <td>18.50</td>\n",
              "            <td>18.50</td>\n",
              "            <td>L</td>\n",
              "            <td>Veggie</td>\n",
              "            <td>Mozzarella_Cheese__Provolone_Cheese__Smoked_Gouda_Cheese__Romano_Cheese__Blue_Cheese__Garlic</td>\n",
              "            <td>The_Five_Cheese_Pizza</td>\n",
              "        </tr>\n",
              "        <tr>\n",
              "            <td>4</td>\n",
              "            <td>2</td>\n",
              "            <td>ital_supr_l</td>\n",
              "            <td>1</td>\n",
              "            <td>1/1/2015</td>\n",
              "            <td>11:57:40</td>\n",
              "            <td>20.75</td>\n",
              "            <td>20.75</td>\n",
              "            <td>L</td>\n",
              "            <td>Supreme</td>\n",
              "            <td>Calabrese_Salami__Capocollo__Tomatoes__Red_Onions__Green_Olives__Garlic</td>\n",
              "            <td>The_Italian_Supreme_Pizza</td>\n",
              "        </tr>\n",
              "        <tr>\n",
              "            <td>5</td>\n",
              "            <td>2</td>\n",
              "            <td>mexicana_m</td>\n",
              "            <td>1</td>\n",
              "            <td>1/1/2015</td>\n",
              "            <td>11:57:40</td>\n",
              "            <td>16.00</td>\n",
              "            <td>16.00</td>\n",
              "            <td>M</td>\n",
              "            <td>Veggie</td>\n",
              "            <td>Tomatoes__Red_Peppers__Jalapeno_Peppers__Red_Onions__Cilantro__Corn__Chipotle_Sauce__Garlic</td>\n",
              "            <td>The_Mexicana_Pizza</td>\n",
              "        </tr>\n",
              "    </tbody>\n",
              "</table>"
            ]
          },
          "metadata": {},
          "execution_count": 20
        }
      ]
    },
    {
      "cell_type": "markdown",
      "source": [
        "W"
      ],
      "metadata": {
        "id": "yNUew_o4GKqy"
      }
    },
    {
      "cell_type": "markdown",
      "source": [
        "1. Pizza feature table"
      ],
      "metadata": {
        "id": "ratsuVbJKJxk"
      }
    },
    {
      "cell_type": "code",
      "source": [
        "%%sql\n",
        "CREATE TABLE features\n",
        "SELECT pizza_id, pizza_name_id, pizza_size, pizza_category\n",
        "FROM pizza_sales;"
      ],
      "metadata": {
        "colab": {
          "base_uri": "https://localhost:8080/"
        },
        "id": "3iRRc267KJBS",
        "outputId": "6b68ee52-e213-461c-9968-8dd6edc7505c"
      },
      "execution_count": 12,
      "outputs": [
        {
          "output_type": "stream",
          "name": "stdout",
          "text": [
            " * mysql://root@localhost/\n",
            "48620 rows affected.\n"
          ]
        },
        {
          "output_type": "execute_result",
          "data": {
            "text/plain": [
              "[]"
            ]
          },
          "metadata": {},
          "execution_count": 12
        }
      ]
    },
    {
      "cell_type": "markdown",
      "source": [
        "Add key constraint to features"
      ],
      "metadata": {
        "id": "mQMvHx-C6ADR"
      }
    },
    {
      "cell_type": "code",
      "source": [
        "%%sql\n",
        "ALTER TABLE features\n",
        "\tADD PRIMARY KEY (pizza_id);\n",
        "\n"
      ],
      "metadata": {
        "colab": {
          "base_uri": "https://localhost:8080/"
        },
        "id": "mrXDzIOjLdSu",
        "outputId": "f45ce41b-4114-4d82-a2ea-5a4226ffbcc4"
      },
      "execution_count": 21,
      "outputs": [
        {
          "output_type": "stream",
          "name": "stdout",
          "text": [
            " * mysql://root@localhost/\n",
            "(MySQLdb.OperationalError) (1068, 'Multiple primary key defined')\n",
            "[SQL: ALTER TABLE features\n",
            "\tADD PRIMARY KEY (pizza_id);]\n",
            "(Background on this error at: https://sqlalche.me/e/20/e3q8)\n"
          ]
        }
      ]
    },
    {
      "cell_type": "markdown",
      "source": [
        "2. order details table"
      ],
      "metadata": {
        "id": "9yi0zZjR6Zer"
      }
    },
    {
      "cell_type": "code",
      "source": [
        "%%sql\n",
        "\n",
        "CREATE TABLE orders\n",
        "\tSELECT pizza_id, pizza_name_id, pizza_category, quantity, STR_TO_DATE(order_date, '%d/%m/%Y') AS order_date,\n",
        "\t\t   order_time, total_price\n",
        "\t  FROM pizza_sales;\n",
        "\n"
      ],
      "metadata": {
        "colab": {
          "base_uri": "https://localhost:8080/"
        },
        "id": "J674dinef63-",
        "outputId": "887c51fd-ceb4-4b7c-e85d-5c51df33c722"
      },
      "execution_count": 22,
      "outputs": [
        {
          "output_type": "stream",
          "name": "stdout",
          "text": [
            " * mysql://root@localhost/\n",
            "48620 rows affected.\n"
          ]
        },
        {
          "output_type": "execute_result",
          "data": {
            "text/plain": [
              "[]"
            ]
          },
          "metadata": {},
          "execution_count": 22
        }
      ]
    },
    {
      "cell_type": "markdown",
      "source": [
        "Add KEY constraint to orders table"
      ],
      "metadata": {
        "id": "0jDQh8eg7Czh"
      }
    },
    {
      "cell_type": "code",
      "source": [
        "%%sql\n",
        "/*throwing error when adding foreign so\n",
        "i want to try it after creating the table*/\n",
        "ALTER TABLE orders\n",
        "\tADD FOREIGN KEY features (pizza_id)\n",
        "\t\tREFERENCES features (pizza_id);\n"
      ],
      "metadata": {
        "colab": {
          "base_uri": "https://localhost:8080/"
        },
        "id": "4mDA99xNi_tZ",
        "outputId": "4e819e3a-116c-4b79-9dd4-6270d743962a"
      },
      "execution_count": 23,
      "outputs": [
        {
          "output_type": "stream",
          "name": "stdout",
          "text": [
            " * mysql://root@localhost/\n",
            "48620 rows affected.\n"
          ]
        },
        {
          "output_type": "execute_result",
          "data": {
            "text/plain": [
              "[]"
            ]
          },
          "metadata": {},
          "execution_count": 23
        }
      ]
    },
    {
      "cell_type": "markdown",
      "source": [
        "3. Create table price"
      ],
      "metadata": {
        "id": "4S0rf1GT7I1s"
      }
    },
    {
      "cell_type": "code",
      "source": [
        "%%sql\n",
        "CREATE TABLE price\n",
        "\t  SELECT pizza_id, pizza_category, quantity, unit_price, total_price\n",
        "        FROM pizza_sales;\n"
      ],
      "metadata": {
        "colab": {
          "base_uri": "https://localhost:8080/"
        },
        "id": "hAIcoj2Eh5Ui",
        "outputId": "f7b0cfab-7488-40f1-fa21-40bf690b5169"
      },
      "execution_count": 24,
      "outputs": [
        {
          "output_type": "stream",
          "name": "stdout",
          "text": [
            " * mysql://root@localhost/\n",
            "48620 rows affected.\n"
          ]
        },
        {
          "output_type": "execute_result",
          "data": {
            "text/plain": [
              "[]"
            ]
          },
          "metadata": {},
          "execution_count": 24
        }
      ]
    },
    {
      "cell_type": "markdown",
      "source": [
        "ADD key constraint to price table"
      ],
      "metadata": {
        "id": "yTRaA4AB7scQ"
      }
    },
    {
      "cell_type": "code",
      "source": [
        "%%sql\n",
        "ALTER TABLE price\n",
        "    ADD FOREIGN KEY ( pizza_id) REFERENCES features (pizza_id);\n"
      ],
      "metadata": {
        "colab": {
          "base_uri": "https://localhost:8080/"
        },
        "id": "SUtnmls77Wa7",
        "outputId": "8f4613b3-0cc7-48b9-8507-b4b979a7d47f"
      },
      "execution_count": 25,
      "outputs": [
        {
          "output_type": "stream",
          "name": "stdout",
          "text": [
            " * mysql://root@localhost/\n",
            "48620 rows affected.\n"
          ]
        },
        {
          "output_type": "execute_result",
          "data": {
            "text/plain": [
              "[]"
            ]
          },
          "metadata": {},
          "execution_count": 25
        }
      ]
    },
    {
      "cell_type": "markdown",
      "source": [
        "\n"
      ],
      "metadata": {
        "id": "bjza_ESkN6iJ"
      }
    },
    {
      "cell_type": "markdown",
      "source": [
        "4. Create table ingredients"
      ],
      "metadata": {
        "id": "n7iSMYIN7zzk"
      }
    },
    {
      "cell_type": "code",
      "source": [
        "%%sql\n",
        "-- 4. Ingredients\n",
        "CREATE TABLE ingredients\n",
        "\tSELECT pizza_id, pizza_category, pizza_ingredients AS pizza_ing\n",
        "    FROM pizza_sales;\n",
        "\n",
        "\n"
      ],
      "metadata": {
        "colab": {
          "base_uri": "https://localhost:8080/"
        },
        "id": "QtGhLb_m7zau",
        "outputId": "8890488f-0d25-4bdd-af18-52a607a2663d"
      },
      "execution_count": 27,
      "outputs": [
        {
          "output_type": "stream",
          "name": "stdout",
          "text": [
            " * mysql://root@localhost/\n",
            "(MySQLdb.OperationalError) (1050, \"Table 'ingredients' already exists\")\n",
            "[SQL: -- 4. Ingredients\n",
            "CREATE TABLE ingredients\n",
            "\tSELECT pizza_id, pizza_category, pizza_ingredients AS pizza_ing\n",
            "    FROM pizza_sales;]\n",
            "(Background on this error at: https://sqlalche.me/e/20/e3q8)\n"
          ]
        }
      ]
    },
    {
      "cell_type": "markdown",
      "source": [
        "Add KEY constraints to ingredients table"
      ],
      "metadata": {
        "id": "5wki72zJ8LEa"
      }
    },
    {
      "cell_type": "code",
      "source": [
        "%%sql\n",
        "ALTER TABLE ingredients\n",
        "    ADD FOREIGN KEY features (pizza_id) REFERENCES features (pizza_id);"
      ],
      "metadata": {
        "colab": {
          "base_uri": "https://localhost:8080/"
        },
        "id": "awZxTmxL8C8d",
        "outputId": "1a03a8bb-ca81-468e-a4b4-62b872614e9b"
      },
      "execution_count": 28,
      "outputs": [
        {
          "output_type": "stream",
          "name": "stdout",
          "text": [
            " * mysql://root@localhost/\n",
            "48620 rows affected.\n"
          ]
        },
        {
          "output_type": "execute_result",
          "data": {
            "text/plain": [
              "[]"
            ]
          },
          "metadata": {},
          "execution_count": 28
        }
      ]
    },
    {
      "cell_type": "markdown",
      "source": [
        "5. Create table November sales"
      ],
      "metadata": {
        "id": "haYpo8oz8TB-"
      }
    },
    {
      "cell_type": "code",
      "source": [
        "%%sql\n",
        "CREATE TABLE nov_sales\n",
        "SELECT  STR_TO_DATE(order_date, '%d/%m/%Y') AS order_date, pizza_id, pizza_category,\n",
        "        CAST(order_time AS TIME), quantity, total_price\n",
        "        FROM pizza_sales;\n",
        "\t\t-- WHERE order_date LIKE '%/11/2015%';\n",
        " -- SELECT  *FROM nov_sales; -- DATE -- (order_date)='29/11/2015'\n",
        " -- drop table nov_sales;\n",
        "\n",
        "\n"
      ],
      "metadata": {
        "colab": {
          "base_uri": "https://localhost:8080/"
        },
        "id": "whEkLHPD8YTk",
        "outputId": "63c3e3bd-b1e6-42b9-e093-14513f1b2ee1"
      },
      "execution_count": 29,
      "outputs": [
        {
          "output_type": "stream",
          "name": "stdout",
          "text": [
            " * mysql://root@localhost/\n",
            "48620 rows affected.\n",
            "0 rows affected.\n"
          ]
        },
        {
          "output_type": "execute_result",
          "data": {
            "text/plain": [
              "[]"
            ]
          },
          "metadata": {},
          "execution_count": 29
        }
      ]
    },
    {
      "cell_type": "markdown",
      "source": [
        "Add key constraint to november sales table"
      ],
      "metadata": {
        "id": "dW2P8vUOGnSh"
      }
    },
    {
      "cell_type": "code",
      "source": [
        "%%sql\n",
        "ALTER TABLE nov_sales\n",
        "\t ADD FOREIGN KEY (pizza_id) REFERENCES  features (pizza_id);"
      ],
      "metadata": {
        "colab": {
          "base_uri": "https://localhost:8080/"
        },
        "id": "-KzUjSh68t1S",
        "outputId": "d0260987-9c5b-448c-ea5d-61e08b4226f8"
      },
      "execution_count": 30,
      "outputs": [
        {
          "output_type": "stream",
          "name": "stdout",
          "text": [
            " * mysql://root@localhost/\n",
            "48620 rows affected.\n"
          ]
        },
        {
          "output_type": "execute_result",
          "data": {
            "text/plain": [
              "[]"
            ]
          },
          "metadata": {},
          "execution_count": 30
        }
      ]
    },
    {
      "cell_type": "markdown",
      "source": [
        "the subsequent  code chunk will look into total number of pizza type sold on black friday and then we will comapre the quantity a day before and after blackfiday respectively"
      ],
      "metadata": {
        "id": "IX9hQ0fsZzJ_"
      }
    },
    {
      "cell_type": "code",
      "source": [
        "%%sql\n",
        "CREATE VIEW blkfri AS\n",
        "SELECT pizza_category, COUNT(quantity) AS blackfriday_qty\n",
        "\t    FROM nov_sales\n",
        "\t   WHERE DATE(order_date) = '2015-11-29'\n",
        "       GROUP BY pizza_category;"
      ],
      "metadata": {
        "colab": {
          "base_uri": "https://localhost:8080/"
        },
        "id": "wPC3QqQRaNtW",
        "outputId": "e5a48376-49aa-4418-aefa-7aaaf3ba2192"
      },
      "execution_count": 33,
      "outputs": [
        {
          "output_type": "stream",
          "name": "stdout",
          "text": [
            " * mysql://root@localhost/\n",
            "0 rows affected.\n"
          ]
        },
        {
          "output_type": "execute_result",
          "data": {
            "text/plain": [
              "[]"
            ]
          },
          "metadata": {},
          "execution_count": 33
        }
      ]
    },
    {
      "cell_type": "code",
      "source": [
        "  %%sql\n",
        "CREATE VIEW b4_blkfri AS\n",
        "  SELECT pizza_category, COUNT(quantity) AS dayb4_qty\n",
        "    FROM nov_sales\n",
        "   WHERE DATE(order_date) = '2015-11-28'\n",
        "   GROUP BY pizza_category;"
      ],
      "metadata": {
        "colab": {
          "base_uri": "https://localhost:8080/"
        },
        "id": "iMuHWkuoao22",
        "outputId": "3416d164-1786-4c79-cf8f-2d4402f4d8cd"
      },
      "execution_count": 31,
      "outputs": [
        {
          "output_type": "stream",
          "name": "stdout",
          "text": [
            " * mysql://root@localhost/\n",
            "0 rows affected.\n"
          ]
        },
        {
          "output_type": "execute_result",
          "data": {
            "text/plain": [
              "[]"
            ]
          },
          "metadata": {},
          "execution_count": 31
        }
      ]
    },
    {
      "cell_type": "code",
      "source": [
        "%%sql\n",
        "CREATE VIEW aft_blkfri AS\n",
        "SELECT pizza_category, COUNT(quantity) AS dayaft_qty\n",
        "  FROM nov_sales\n",
        "  WHERE DATE(order_date) = '2015-11-30'\n",
        "  GROUP BY pizza_category;"
      ],
      "metadata": {
        "colab": {
          "base_uri": "https://localhost:8080/"
        },
        "id": "qaXjaNpobFwO",
        "outputId": "18fc2a8e-dfa9-4d32-de6e-0de818000714"
      },
      "execution_count": 32,
      "outputs": [
        {
          "output_type": "stream",
          "name": "stdout",
          "text": [
            " * mysql://root@localhost/\n",
            "0 rows affected.\n"
          ]
        },
        {
          "output_type": "execute_result",
          "data": {
            "text/plain": [
              "[]"
            ]
          },
          "metadata": {},
          "execution_count": 32
        }
      ]
    },
    {
      "cell_type": "markdown",
      "source": [
        "This did not work initially google collab but when the sql-mode is set to ''\n",
        "such that we have\n",
        "\n",
        "```\n",
        "SET sql_mode = (SELECT REPLACE(@@sql_mode, 'ONLY_FULL_GROUP_BY', ''));\n",
        "```\n",
        "this work for any group by\n"
      ],
      "metadata": {
        "id": "s0Wi1y7wdjen"
      }
    },
    {
      "cell_type": "code",
      "source": [
        "%%sql\n",
        "SELECT * FROM b4_blkfri\n",
        "  INNER JOIN blkfri USING (pizza_category)\n",
        "  INNER JOIN  aft_blkfri USING (pizza_category);\n"
      ],
      "metadata": {
        "colab": {
          "base_uri": "https://localhost:8080/",
          "height": 160
        },
        "id": "cN0020FhbPKS",
        "outputId": "ac3c6c2f-b6e7-4f83-982c-948ed0cf87da"
      },
      "execution_count": 34,
      "outputs": [
        {
          "output_type": "stream",
          "name": "stdout",
          "text": [
            " * mysql://root@localhost/\n",
            "4 rows affected.\n"
          ]
        },
        {
          "output_type": "execute_result",
          "data": {
            "text/plain": [
              "[('Classic', 37, 32, 38),\n",
              " ('Chicken', 29, 17, 43),\n",
              " ('Veggie', 20, 31, 25),\n",
              " ('Supreme', 30, 31, 26)]"
            ],
            "text/html": [
              "<table>\n",
              "    <thead>\n",
              "        <tr>\n",
              "            <th>pizza_category</th>\n",
              "            <th>dayb4_qty</th>\n",
              "            <th>blackfriday_qty</th>\n",
              "            <th>dayaft_qty</th>\n",
              "        </tr>\n",
              "    </thead>\n",
              "    <tbody>\n",
              "        <tr>\n",
              "            <td>Classic</td>\n",
              "            <td>37</td>\n",
              "            <td>32</td>\n",
              "            <td>38</td>\n",
              "        </tr>\n",
              "        <tr>\n",
              "            <td>Chicken</td>\n",
              "            <td>29</td>\n",
              "            <td>17</td>\n",
              "            <td>43</td>\n",
              "        </tr>\n",
              "        <tr>\n",
              "            <td>Veggie</td>\n",
              "            <td>20</td>\n",
              "            <td>31</td>\n",
              "            <td>25</td>\n",
              "        </tr>\n",
              "        <tr>\n",
              "            <td>Supreme</td>\n",
              "            <td>30</td>\n",
              "            <td>31</td>\n",
              "            <td>26</td>\n",
              "        </tr>\n",
              "    </tbody>\n",
              "</table>"
            ]
          },
          "metadata": {},
          "execution_count": 34
        }
      ]
    },
    {
      "cell_type": "markdown",
      "source": [],
      "metadata": {
        "id": "KyKCJxExjupf"
      }
    },
    {
      "cell_type": "markdown",
      "source": [
        "From the above we can that black friday is not necessarily the highest pizza sales day, lets see which pizza sells best"
      ],
      "metadata": {
        "id": "Lj7MEmB3jlSb"
      }
    },
    {
      "cell_type": "code",
      "source": [
        "%%sql\n",
        "SELECT pizza_category, MAX(quantity) AS quantity, MONTH(order_date) AS order_month\n",
        "\tFROM orders\n",
        "    GROUP BY pizza_category, MONTH(order_date) = order_month;\n"
      ],
      "metadata": {
        "colab": {
          "base_uri": "https://localhost:8080/",
          "height": 160
        },
        "id": "5kzFDGGrlx3X",
        "outputId": "d8ea635b-349d-4bb7-9f15-afb52caa3ef4"
      },
      "execution_count": 26,
      "outputs": [
        {
          "output_type": "stream",
          "name": "stdout",
          "text": [
            " * mysql://root@localhost/\n",
            "4 rows affected.\n"
          ]
        },
        {
          "output_type": "execute_result",
          "data": {
            "text/plain": [
              "[('Classic', 4, 1), ('Veggie', 3, 1), ('Supreme', 3, 1), ('Chicken', 4, 1)]"
            ],
            "text/html": [
              "<table>\n",
              "    <thead>\n",
              "        <tr>\n",
              "            <th>pizza_category</th>\n",
              "            <th>quantity</th>\n",
              "            <th>order_month</th>\n",
              "        </tr>\n",
              "    </thead>\n",
              "    <tbody>\n",
              "        <tr>\n",
              "            <td>Classic</td>\n",
              "            <td>4</td>\n",
              "            <td>1</td>\n",
              "        </tr>\n",
              "        <tr>\n",
              "            <td>Veggie</td>\n",
              "            <td>3</td>\n",
              "            <td>1</td>\n",
              "        </tr>\n",
              "        <tr>\n",
              "            <td>Supreme</td>\n",
              "            <td>3</td>\n",
              "            <td>1</td>\n",
              "        </tr>\n",
              "        <tr>\n",
              "            <td>Chicken</td>\n",
              "            <td>4</td>\n",
              "            <td>1</td>\n",
              "        </tr>\n",
              "    </tbody>\n",
              "</table>"
            ]
          },
          "metadata": {},
          "execution_count": 26
        }
      ]
    },
    {
      "cell_type": "markdown",
      "source": [
        "Lets now see the average cost of each pizza category sold per month\n"
      ],
      "metadata": {
        "id": "jgl2_EEwsSQz"
      }
    },
    {
      "cell_type": "code",
      "source": [
        "%%sql\n",
        "\n",
        "   SELECT pizza_category, AVG(total_price) AS avg_price, MONTH(order_date) AS order_month\n",
        "    FROM  orders\n",
        "GROUP BY  pizza_category, MONTH(order_date);"
      ],
      "metadata": {
        "colab": {
          "base_uri": "https://localhost:8080/",
          "height": 1000
        },
        "id": "hihSfNgVsZC9",
        "outputId": "ae7f7d73-ba4f-4a98-8324-7344335c5454"
      },
      "execution_count": 32,
      "outputs": [
        {
          "output_type": "stream",
          "name": "stdout",
          "text": [
            " * mysql://root@localhost/\n",
            "48 rows affected.\n"
          ]
        },
        {
          "output_type": "execute_result",
          "data": {
            "text/plain": [
              "[('Classic', Decimal('15.039903'), 1),\n",
              " ('Veggie', Decimal('17.089579'), 1),\n",
              " ('Supreme', Decimal('17.475390'), 1),\n",
              " ('Chicken', Decimal('18.108221'), 1),\n",
              " ('Classic', Decimal('14.970725'), 2),\n",
              " ('Veggie', Decimal('16.867745'), 2),\n",
              " ('Supreme', Decimal('17.635918'), 2),\n",
              " ('Chicken', Decimal('18.007276'), 2),\n",
              " ('Classic', Decimal('14.960033'), 3),\n",
              " ('Chicken', Decimal('17.966871'), 3),\n",
              " ('Veggie', Decimal('16.945601'), 3),\n",
              " ('Supreme', Decimal('17.836921'), 3),\n",
              " ('Supreme', Decimal('17.839788'), 4),\n",
              " ('Classic', Decimal('15.298211'), 4),\n",
              " ('Veggie', Decimal('16.723228'), 4),\n",
              " ('Chicken', Decimal('18.242525'), 4),\n",
              " ('Classic', Decimal('15.021732'), 5),\n",
              " ('Chicken', Decimal('18.228781'), 5),\n",
              " ('Veggie', Decimal('16.861167'), 5),\n",
              " ('Supreme', Decimal('17.886377'), 5),\n",
              " ('Veggie', Decimal('17.032500'), 6),\n",
              " ('Chicken', Decimal('18.135851'), 6),\n",
              " ('Classic', Decimal('15.323619'), 6),\n",
              " ('Supreme', Decimal('17.725024'), 6),\n",
              " ('Chicken', Decimal('18.049098'), 7),\n",
              " ('Classic', Decimal('15.059770'), 7),\n",
              " ('Supreme', Decimal('17.842165'), 7),\n",
              " ('Veggie', Decimal('17.120813'), 7),\n",
              " ('Chicken', Decimal('17.852074'), 8),\n",
              " ('Supreme', Decimal('17.549743'), 8),\n",
              " ('Classic', Decimal('14.985589'), 8),\n",
              " ('Veggie', Decimal('16.888608'), 8),\n",
              " ('Classic', Decimal('15.189821'), 9),\n",
              " ('Chicken', Decimal('18.205448'), 9),\n",
              " ('Supreme', Decimal('17.682775'), 9),\n",
              " ('Veggie', Decimal('16.699221'), 9),\n",
              " ('Classic', Decimal('15.112109'), 10),\n",
              " ('Veggie', Decimal('17.059027'), 10),\n",
              " ('Chicken', Decimal('18.306931'), 10),\n",
              " ('Supreme', Decimal('17.555996'), 10),\n",
              " ('Chicken', Decimal('18.219634'), 11),\n",
              " ('Classic', Decimal('15.024737'), 11),\n",
              " ('Veggie', Decimal('16.900104'), 11),\n",
              " ('Supreme', Decimal('17.604255'), 11),\n",
              " ('Veggie', Decimal('16.797177'), 12),\n",
              " ('Supreme', Decimal('17.487500'), 12),\n",
              " ('Chicken', Decimal('18.091667'), 12),\n",
              " ('Classic', Decimal('15.159146'), 12)]"
            ],
            "text/html": [
              "<table>\n",
              "    <thead>\n",
              "        <tr>\n",
              "            <th>pizza_category</th>\n",
              "            <th>avg_price</th>\n",
              "            <th>order_month</th>\n",
              "        </tr>\n",
              "    </thead>\n",
              "    <tbody>\n",
              "        <tr>\n",
              "            <td>Classic</td>\n",
              "            <td>15.039903</td>\n",
              "            <td>1</td>\n",
              "        </tr>\n",
              "        <tr>\n",
              "            <td>Veggie</td>\n",
              "            <td>17.089579</td>\n",
              "            <td>1</td>\n",
              "        </tr>\n",
              "        <tr>\n",
              "            <td>Supreme</td>\n",
              "            <td>17.475390</td>\n",
              "            <td>1</td>\n",
              "        </tr>\n",
              "        <tr>\n",
              "            <td>Chicken</td>\n",
              "            <td>18.108221</td>\n",
              "            <td>1</td>\n",
              "        </tr>\n",
              "        <tr>\n",
              "            <td>Classic</td>\n",
              "            <td>14.970725</td>\n",
              "            <td>2</td>\n",
              "        </tr>\n",
              "        <tr>\n",
              "            <td>Veggie</td>\n",
              "            <td>16.867745</td>\n",
              "            <td>2</td>\n",
              "        </tr>\n",
              "        <tr>\n",
              "            <td>Supreme</td>\n",
              "            <td>17.635918</td>\n",
              "            <td>2</td>\n",
              "        </tr>\n",
              "        <tr>\n",
              "            <td>Chicken</td>\n",
              "            <td>18.007276</td>\n",
              "            <td>2</td>\n",
              "        </tr>\n",
              "        <tr>\n",
              "            <td>Classic</td>\n",
              "            <td>14.960033</td>\n",
              "            <td>3</td>\n",
              "        </tr>\n",
              "        <tr>\n",
              "            <td>Chicken</td>\n",
              "            <td>17.966871</td>\n",
              "            <td>3</td>\n",
              "        </tr>\n",
              "        <tr>\n",
              "            <td>Veggie</td>\n",
              "            <td>16.945601</td>\n",
              "            <td>3</td>\n",
              "        </tr>\n",
              "        <tr>\n",
              "            <td>Supreme</td>\n",
              "            <td>17.836921</td>\n",
              "            <td>3</td>\n",
              "        </tr>\n",
              "        <tr>\n",
              "            <td>Supreme</td>\n",
              "            <td>17.839788</td>\n",
              "            <td>4</td>\n",
              "        </tr>\n",
              "        <tr>\n",
              "            <td>Classic</td>\n",
              "            <td>15.298211</td>\n",
              "            <td>4</td>\n",
              "        </tr>\n",
              "        <tr>\n",
              "            <td>Veggie</td>\n",
              "            <td>16.723228</td>\n",
              "            <td>4</td>\n",
              "        </tr>\n",
              "        <tr>\n",
              "            <td>Chicken</td>\n",
              "            <td>18.242525</td>\n",
              "            <td>4</td>\n",
              "        </tr>\n",
              "        <tr>\n",
              "            <td>Classic</td>\n",
              "            <td>15.021732</td>\n",
              "            <td>5</td>\n",
              "        </tr>\n",
              "        <tr>\n",
              "            <td>Chicken</td>\n",
              "            <td>18.228781</td>\n",
              "            <td>5</td>\n",
              "        </tr>\n",
              "        <tr>\n",
              "            <td>Veggie</td>\n",
              "            <td>16.861167</td>\n",
              "            <td>5</td>\n",
              "        </tr>\n",
              "        <tr>\n",
              "            <td>Supreme</td>\n",
              "            <td>17.886377</td>\n",
              "            <td>5</td>\n",
              "        </tr>\n",
              "        <tr>\n",
              "            <td>Veggie</td>\n",
              "            <td>17.032500</td>\n",
              "            <td>6</td>\n",
              "        </tr>\n",
              "        <tr>\n",
              "            <td>Chicken</td>\n",
              "            <td>18.135851</td>\n",
              "            <td>6</td>\n",
              "        </tr>\n",
              "        <tr>\n",
              "            <td>Classic</td>\n",
              "            <td>15.323619</td>\n",
              "            <td>6</td>\n",
              "        </tr>\n",
              "        <tr>\n",
              "            <td>Supreme</td>\n",
              "            <td>17.725024</td>\n",
              "            <td>6</td>\n",
              "        </tr>\n",
              "        <tr>\n",
              "            <td>Chicken</td>\n",
              "            <td>18.049098</td>\n",
              "            <td>7</td>\n",
              "        </tr>\n",
              "        <tr>\n",
              "            <td>Classic</td>\n",
              "            <td>15.059770</td>\n",
              "            <td>7</td>\n",
              "        </tr>\n",
              "        <tr>\n",
              "            <td>Supreme</td>\n",
              "            <td>17.842165</td>\n",
              "            <td>7</td>\n",
              "        </tr>\n",
              "        <tr>\n",
              "            <td>Veggie</td>\n",
              "            <td>17.120813</td>\n",
              "            <td>7</td>\n",
              "        </tr>\n",
              "        <tr>\n",
              "            <td>Chicken</td>\n",
              "            <td>17.852074</td>\n",
              "            <td>8</td>\n",
              "        </tr>\n",
              "        <tr>\n",
              "            <td>Supreme</td>\n",
              "            <td>17.549743</td>\n",
              "            <td>8</td>\n",
              "        </tr>\n",
              "        <tr>\n",
              "            <td>Classic</td>\n",
              "            <td>14.985589</td>\n",
              "            <td>8</td>\n",
              "        </tr>\n",
              "        <tr>\n",
              "            <td>Veggie</td>\n",
              "            <td>16.888608</td>\n",
              "            <td>8</td>\n",
              "        </tr>\n",
              "        <tr>\n",
              "            <td>Classic</td>\n",
              "            <td>15.189821</td>\n",
              "            <td>9</td>\n",
              "        </tr>\n",
              "        <tr>\n",
              "            <td>Chicken</td>\n",
              "            <td>18.205448</td>\n",
              "            <td>9</td>\n",
              "        </tr>\n",
              "        <tr>\n",
              "            <td>Supreme</td>\n",
              "            <td>17.682775</td>\n",
              "            <td>9</td>\n",
              "        </tr>\n",
              "        <tr>\n",
              "            <td>Veggie</td>\n",
              "            <td>16.699221</td>\n",
              "            <td>9</td>\n",
              "        </tr>\n",
              "        <tr>\n",
              "            <td>Classic</td>\n",
              "            <td>15.112109</td>\n",
              "            <td>10</td>\n",
              "        </tr>\n",
              "        <tr>\n",
              "            <td>Veggie</td>\n",
              "            <td>17.059027</td>\n",
              "            <td>10</td>\n",
              "        </tr>\n",
              "        <tr>\n",
              "            <td>Chicken</td>\n",
              "            <td>18.306931</td>\n",
              "            <td>10</td>\n",
              "        </tr>\n",
              "        <tr>\n",
              "            <td>Supreme</td>\n",
              "            <td>17.555996</td>\n",
              "            <td>10</td>\n",
              "        </tr>\n",
              "        <tr>\n",
              "            <td>Chicken</td>\n",
              "            <td>18.219634</td>\n",
              "            <td>11</td>\n",
              "        </tr>\n",
              "        <tr>\n",
              "            <td>Classic</td>\n",
              "            <td>15.024737</td>\n",
              "            <td>11</td>\n",
              "        </tr>\n",
              "        <tr>\n",
              "            <td>Veggie</td>\n",
              "            <td>16.900104</td>\n",
              "            <td>11</td>\n",
              "        </tr>\n",
              "        <tr>\n",
              "            <td>Supreme</td>\n",
              "            <td>17.604255</td>\n",
              "            <td>11</td>\n",
              "        </tr>\n",
              "        <tr>\n",
              "            <td>Veggie</td>\n",
              "            <td>16.797177</td>\n",
              "            <td>12</td>\n",
              "        </tr>\n",
              "        <tr>\n",
              "            <td>Supreme</td>\n",
              "            <td>17.487500</td>\n",
              "            <td>12</td>\n",
              "        </tr>\n",
              "        <tr>\n",
              "            <td>Chicken</td>\n",
              "            <td>18.091667</td>\n",
              "            <td>12</td>\n",
              "        </tr>\n",
              "        <tr>\n",
              "            <td>Classic</td>\n",
              "            <td>15.159146</td>\n",
              "            <td>12</td>\n",
              "        </tr>\n",
              "    </tbody>\n",
              "</table>"
            ]
          },
          "metadata": {},
          "execution_count": 32
        }
      ]
    },
    {
      "cell_type": "markdown",
      "source": [
        "Comparing the price of chicken pizza across months"
      ],
      "metadata": {
        "id": "pQdgtKZat-2D"
      }
    },
    {
      "cell_type": "code",
      "source": [
        "%%sql\n",
        "   SELECT pizza_category, total_price, MONTH(order_date) AS month\n",
        "\t   FROM orders\n",
        "    WHERE pizza_category LIKE \"%Chicken\"\n",
        " GROUP BY MONTH(order_date);"
      ],
      "metadata": {
        "colab": {
          "base_uri": "https://localhost:8080/",
          "height": 331
        },
        "id": "USUcE1izt99K",
        "outputId": "efadb83f-52d8-4357-a602-fcf035b41b19"
      },
      "execution_count": 35,
      "outputs": [
        {
          "output_type": "stream",
          "name": "stdout",
          "text": [
            " * mysql://root@localhost/\n",
            "12 rows affected.\n"
          ]
        },
        {
          "output_type": "execute_result",
          "data": {
            "text/plain": [
              "[('Chicken', Decimal('20.75'), 1),\n",
              " ('Chicken', Decimal('20.75'), 2),\n",
              " ('Chicken', Decimal('12.75'), 3),\n",
              " ('Chicken', Decimal('20.75'), 4),\n",
              " ('Chicken', Decimal('12.75'), 5),\n",
              " ('Chicken', Decimal('16.75'), 6),\n",
              " ('Chicken', Decimal('20.75'), 7),\n",
              " ('Chicken', Decimal('16.75'), 8),\n",
              " ('Chicken', Decimal('20.75'), 9),\n",
              " ('Chicken', Decimal('12.75'), 10),\n",
              " ('Chicken', Decimal('16.75'), 11),\n",
              " ('Chicken', Decimal('16.75'), 12)]"
            ],
            "text/html": [
              "<table>\n",
              "    <thead>\n",
              "        <tr>\n",
              "            <th>pizza_category</th>\n",
              "            <th>total_price</th>\n",
              "            <th>month</th>\n",
              "        </tr>\n",
              "    </thead>\n",
              "    <tbody>\n",
              "        <tr>\n",
              "            <td>Chicken</td>\n",
              "            <td>20.75</td>\n",
              "            <td>1</td>\n",
              "        </tr>\n",
              "        <tr>\n",
              "            <td>Chicken</td>\n",
              "            <td>20.75</td>\n",
              "            <td>2</td>\n",
              "        </tr>\n",
              "        <tr>\n",
              "            <td>Chicken</td>\n",
              "            <td>12.75</td>\n",
              "            <td>3</td>\n",
              "        </tr>\n",
              "        <tr>\n",
              "            <td>Chicken</td>\n",
              "            <td>20.75</td>\n",
              "            <td>4</td>\n",
              "        </tr>\n",
              "        <tr>\n",
              "            <td>Chicken</td>\n",
              "            <td>12.75</td>\n",
              "            <td>5</td>\n",
              "        </tr>\n",
              "        <tr>\n",
              "            <td>Chicken</td>\n",
              "            <td>16.75</td>\n",
              "            <td>6</td>\n",
              "        </tr>\n",
              "        <tr>\n",
              "            <td>Chicken</td>\n",
              "            <td>20.75</td>\n",
              "            <td>7</td>\n",
              "        </tr>\n",
              "        <tr>\n",
              "            <td>Chicken</td>\n",
              "            <td>16.75</td>\n",
              "            <td>8</td>\n",
              "        </tr>\n",
              "        <tr>\n",
              "            <td>Chicken</td>\n",
              "            <td>20.75</td>\n",
              "            <td>9</td>\n",
              "        </tr>\n",
              "        <tr>\n",
              "            <td>Chicken</td>\n",
              "            <td>12.75</td>\n",
              "            <td>10</td>\n",
              "        </tr>\n",
              "        <tr>\n",
              "            <td>Chicken</td>\n",
              "            <td>16.75</td>\n",
              "            <td>11</td>\n",
              "        </tr>\n",
              "        <tr>\n",
              "            <td>Chicken</td>\n",
              "            <td>16.75</td>\n",
              "            <td>12</td>\n",
              "        </tr>\n",
              "    </tbody>\n",
              "</table>"
            ]
          },
          "metadata": {},
          "execution_count": 35
        }
      ]
    },
    {
      "cell_type": "markdown",
      "source": [
        "We create function to calculate the proportion of pizza sold"
      ],
      "metadata": {
        "id": "UuJUPW2rwa1p"
      }
    },
    {
      "cell_type": "code",
      "source": [
        "%%sql\n",
        "\n",
        "DELIMITER //\n",
        "\n",
        "CREATE FUNCTION perc(quantity DECIMAL(5, 3))\n",
        "RETURNS DECIMAL(5, 3)\n",
        "NO SQL\n",
        "BEGIN\n",
        "  RETURN 100 * quantity / 48620;\n",
        "END//\n",
        "\n",
        " DELIMITER ;"
      ],
      "metadata": {
        "colab": {
          "base_uri": "https://localhost:8080/"
        },
        "id": "1V9VNRZ5wskR",
        "outputId": "2dec07ed-c53e-40a8-bafa-7f77f88c997a"
      },
      "execution_count": 42,
      "outputs": [
        {
          "output_type": "stream",
          "name": "stdout",
          "text": [
            " * mysql://root@localhost/\n",
            "(MySQLdb.ProgrammingError) (1064, \"You have an error in your SQL syntax; check the manual that corresponds to your MySQL server version for the right syntax to use near 'DELIMITER//\\n\\nCREATE FUNCTION perc(quantity DECIMAL(5, 3))\\nRETURNS DECIMAL(5, 3)\\n' at line 1\")\n",
            "[SQL: DELIMITER//\n",
            "\n",
            "CREATE FUNCTION perc(quantity DECIMAL(5, 3))\n",
            "RETURNS DECIMAL(5, 3)\n",
            "NO SQL\n",
            "BEGIN\n",
            "RETURN 100 * quantity / 48620;\n",
            "END//\n",
            "\n",
            " DELIMITER ;]\n",
            "(Background on this error at: https://sqlalche.me/e/20/f405)\n"
          ]
        }
      ]
    },
    {
      "cell_type": "markdown",
      "source": [
        "The function as not worked here bur will continue"
      ],
      "metadata": {
        "id": "fmtTk_xSxkKl"
      }
    },
    {
      "cell_type": "code",
      "source": [
        "%%sql\n",
        "SELECT  o.pizza_category, proportion(o.quantity) AS pizza_prop,\n",
        "\t\tMONTH(o.order_date)\n",
        "        FROM orders AS o\n",
        "        GROUP BY o.pizza_category, MONTH(order_date);\n",
        "\n"
      ],
      "metadata": {
        "colab": {
          "base_uri": "https://localhost:8080/"
        },
        "id": "J7mYwzNzxpU6",
        "outputId": "7baade77-8f4d-4a72-af14-e42630716509"
      },
      "execution_count": 43,
      "outputs": [
        {
          "output_type": "stream",
          "name": "stdout",
          "text": [
            " * mysql://root@localhost/\n",
            "(MySQLdb.OperationalError) (1305, 'FUNCTION pizza.proportion does not exist')\n",
            "[SQL: SELECT  o.pizza_category, proportion(o.quantity) AS pizza_prop,\n",
            "\t\tMONTH(o.order_date)\n",
            "        FROM orders AS o\n",
            "        GROUP BY o.pizza_category, MONTH(order_date);]\n",
            "(Background on this error at: https://sqlalche.me/e/20/e3q8)\n"
          ]
        }
      ]
    },
    {
      "cell_type": "markdown",
      "source": [
        "Lets check out the peak order time for for pizza per month. I want to use subquery here"
      ],
      "metadata": {
        "id": "MTpn_8L0ygxe"
      }
    },
    {
      "cell_type": "code",
      "source": [
        "%%sql\n",
        "\n",
        "  SELECT o.pizza_name_id, o.pizza_category, o.order_time, MONTH(o.order_date) AS peak_month, DAY(o.order_date) AS peak_day\n",
        "    FROM orders AS o\n",
        "   WHERE o.quantity = (SELECT MAX(`or`.quantity) FROM orders AS `or`)\n",
        "GROUP BY MONTH(order_date);"
      ],
      "metadata": {
        "colab": {
          "base_uri": "https://localhost:8080/",
          "height": 139
        },
        "id": "geR0TctkysWQ",
        "outputId": "7d05062a-ef0e-4167-a2bf-ece668a650ef"
      },
      "execution_count": 36,
      "outputs": [
        {
          "output_type": "stream",
          "name": "stdout",
          "text": [
            " * mysql://root@localhost/\n",
            "3 rows affected.\n"
          ]
        },
        {
          "output_type": "execute_result",
          "data": {
            "text/plain": [
              "[('big_meat_s', 'Classic', '13:24:35', 3, 30),\n",
              " ('big_meat_s', 'Classic', '12:42:46', 5, 19),\n",
              " ('cali_ckn_l', 'Chicken', '14:16:35', 9, 19)]"
            ],
            "text/html": [
              "<table>\n",
              "    <thead>\n",
              "        <tr>\n",
              "            <th>pizza_name_id</th>\n",
              "            <th>pizza_category</th>\n",
              "            <th>order_time</th>\n",
              "            <th>peak_month</th>\n",
              "            <th>peak_day</th>\n",
              "        </tr>\n",
              "    </thead>\n",
              "    <tbody>\n",
              "        <tr>\n",
              "            <td>big_meat_s</td>\n",
              "            <td>Classic</td>\n",
              "            <td>13:24:35</td>\n",
              "            <td>3</td>\n",
              "            <td>30</td>\n",
              "        </tr>\n",
              "        <tr>\n",
              "            <td>big_meat_s</td>\n",
              "            <td>Classic</td>\n",
              "            <td>12:42:46</td>\n",
              "            <td>5</td>\n",
              "            <td>19</td>\n",
              "        </tr>\n",
              "        <tr>\n",
              "            <td>cali_ckn_l</td>\n",
              "            <td>Chicken</td>\n",
              "            <td>14:16:35</td>\n",
              "            <td>9</td>\n",
              "            <td>19</td>\n",
              "        </tr>\n",
              "    </tbody>\n",
              "</table>"
            ]
          },
          "metadata": {},
          "execution_count": 36
        }
      ]
    },
    {
      "cell_type": "markdown",
      "source": [
        "What if i dont want to use a subquery"
      ],
      "metadata": {
        "id": "aM95ZDHlzQqc"
      }
    },
    {
      "cell_type": "code",
      "source": [
        "%%sql\n",
        "SELECT pizza_name_id, pizza_category, MAX(quantity),\n",
        "       order_time AS peak_time,\n",
        "       MONTH(order_date) AS peak_month, DAY(order_date) AS peak_day\n",
        "\tFROM orders\n",
        "    GROUP BY  MONTH(order_date);"
      ],
      "metadata": {
        "colab": {
          "base_uri": "https://localhost:8080/",
          "height": 331
        },
        "id": "QWfnR3yfzV1X",
        "outputId": "7d76efb5-7829-485b-e198-ab9094bc58bd"
      },
      "execution_count": null,
      "outputs": [
        {
          "output_type": "stream",
          "name": "stdout",
          "text": [
            " * mysql://root@localhost/\n",
            "12 rows affected.\n"
          ]
        },
        {
          "output_type": "execute_result",
          "data": {
            "text/plain": [
              "[('hawaiian_m', 'Classic', 3, '11:38:36', 1, 1),\n",
              " ('big_meat_s', 'Classic', 3, '11:32:07', 2, 1),\n",
              " ('pepperoni_m', 'Classic', 4, '11:34:00', 3, 1),\n",
              " ('sicilian_m', 'Supreme', 2, '11:17:06', 4, 1),\n",
              " ('classic_dlx_m', 'Classic', 4, '11:31:03', 5, 1),\n",
              " ('green_garden_m', 'Veggie', 3, '11:21:45', 6, 1),\n",
              " ('bbq_ckn_l', 'Chicken', 3, '11:16:34', 7, 1),\n",
              " ('bbq_ckn_m', 'Chicken', 3, '11:36:22', 8, 1),\n",
              " ('ital_cpcllo_l', 'Classic', 4, '11:18:24', 9, 1),\n",
              " ('pep_msh_pep_m', 'Classic', 3, '11:40:34', 10, 1),\n",
              " ('ckn_alfredo_m', 'Chicken', 3, '11:40:19', 11, 1),\n",
              " ('four_cheese_m', 'Veggie', 3, '11:16:22', 12, 1)]"
            ],
            "text/html": [
              "<table>\n",
              "    <thead>\n",
              "        <tr>\n",
              "            <th>pizza_name_id</th>\n",
              "            <th>pizza_category</th>\n",
              "            <th>MAX(quantity)</th>\n",
              "            <th>peak_time</th>\n",
              "            <th>peak_month</th>\n",
              "            <th>peak_day</th>\n",
              "        </tr>\n",
              "    </thead>\n",
              "    <tbody>\n",
              "        <tr>\n",
              "            <td>hawaiian_m</td>\n",
              "            <td>Classic</td>\n",
              "            <td>3</td>\n",
              "            <td>11:38:36</td>\n",
              "            <td>1</td>\n",
              "            <td>1</td>\n",
              "        </tr>\n",
              "        <tr>\n",
              "            <td>big_meat_s</td>\n",
              "            <td>Classic</td>\n",
              "            <td>3</td>\n",
              "            <td>11:32:07</td>\n",
              "            <td>2</td>\n",
              "            <td>1</td>\n",
              "        </tr>\n",
              "        <tr>\n",
              "            <td>pepperoni_m</td>\n",
              "            <td>Classic</td>\n",
              "            <td>4</td>\n",
              "            <td>11:34:00</td>\n",
              "            <td>3</td>\n",
              "            <td>1</td>\n",
              "        </tr>\n",
              "        <tr>\n",
              "            <td>sicilian_m</td>\n",
              "            <td>Supreme</td>\n",
              "            <td>2</td>\n",
              "            <td>11:17:06</td>\n",
              "            <td>4</td>\n",
              "            <td>1</td>\n",
              "        </tr>\n",
              "        <tr>\n",
              "            <td>classic_dlx_m</td>\n",
              "            <td>Classic</td>\n",
              "            <td>4</td>\n",
              "            <td>11:31:03</td>\n",
              "            <td>5</td>\n",
              "            <td>1</td>\n",
              "        </tr>\n",
              "        <tr>\n",
              "            <td>green_garden_m</td>\n",
              "            <td>Veggie</td>\n",
              "            <td>3</td>\n",
              "            <td>11:21:45</td>\n",
              "            <td>6</td>\n",
              "            <td>1</td>\n",
              "        </tr>\n",
              "        <tr>\n",
              "            <td>bbq_ckn_l</td>\n",
              "            <td>Chicken</td>\n",
              "            <td>3</td>\n",
              "            <td>11:16:34</td>\n",
              "            <td>7</td>\n",
              "            <td>1</td>\n",
              "        </tr>\n",
              "        <tr>\n",
              "            <td>bbq_ckn_m</td>\n",
              "            <td>Chicken</td>\n",
              "            <td>3</td>\n",
              "            <td>11:36:22</td>\n",
              "            <td>8</td>\n",
              "            <td>1</td>\n",
              "        </tr>\n",
              "        <tr>\n",
              "            <td>ital_cpcllo_l</td>\n",
              "            <td>Classic</td>\n",
              "            <td>4</td>\n",
              "            <td>11:18:24</td>\n",
              "            <td>9</td>\n",
              "            <td>1</td>\n",
              "        </tr>\n",
              "        <tr>\n",
              "            <td>pep_msh_pep_m</td>\n",
              "            <td>Classic</td>\n",
              "            <td>3</td>\n",
              "            <td>11:40:34</td>\n",
              "            <td>10</td>\n",
              "            <td>1</td>\n",
              "        </tr>\n",
              "        <tr>\n",
              "            <td>ckn_alfredo_m</td>\n",
              "            <td>Chicken</td>\n",
              "            <td>3</td>\n",
              "            <td>11:40:19</td>\n",
              "            <td>11</td>\n",
              "            <td>1</td>\n",
              "        </tr>\n",
              "        <tr>\n",
              "            <td>four_cheese_m</td>\n",
              "            <td>Veggie</td>\n",
              "            <td>3</td>\n",
              "            <td>11:16:22</td>\n",
              "            <td>12</td>\n",
              "            <td>1</td>\n",
              "        </tr>\n",
              "    </tbody>\n",
              "</table>"
            ]
          },
          "metadata": {},
          "execution_count": 128
        }
      ]
    },
    {
      "cell_type": "markdown",
      "source": [
        "In conclusion, I am able to discern that chosing the query to use entail absolute care because our output sometimes might not represent our need, conversely it can pave way to interesting discovery as seen above.\n",
        "\n",
        "However, as cliche as this may sound, it is always and forever be true that accuracy comes with practice.\n",
        "\n",
        "# Thank You"
      ],
      "metadata": {
        "id": "1nOF8CnW0ACW"
      }
    }
  ]
}